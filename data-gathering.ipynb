{
 "cells": [
  {
   "cell_type": "code",
   "execution_count": 4,
   "id": "initial_id",
   "metadata": {
    "ExecuteTime": {
     "end_time": "2023-11-26T22:59:14.917160500Z",
     "start_time": "2023-11-26T22:59:14.654113700Z"
    },
    "collapsed": true
   },
   "outputs": [],
   "source": [
    "import openai\n",
    "from gpt4_config import GPT4_API_KEY\n",
    "\n",
    "openai.api_key = GPT4_API_KEY\n",
    "model = 'gpt-4-1106-preview'"
   ]
  },
  {
   "cell_type": "code",
   "execution_count": 1,
   "id": "276d698ad916b15",
   "metadata": {
    "ExecuteTime": {
     "end_time": "2023-11-26T22:57:52.285471800Z",
     "start_time": "2023-11-26T22:57:51.683239700Z"
    },
    "collapsed": false
   },
   "outputs": [],
   "source": [
    "import json\n",
    "import pandas as pd\n",
    "import time"
   ]
  },
  {
   "cell_type": "code",
   "execution_count": 53,
   "id": "1bd6e173f16d06a",
   "metadata": {
    "ExecuteTime": {
     "end_time": "2023-11-26T21:12:11.758680400Z",
     "start_time": "2023-11-26T21:12:11.736513500Z"
    },
    "collapsed": false
   },
   "outputs": [],
   "source": [
    "def generate_sentences():\n",
    "    # get 20 sentences about mountains\n",
    "    messages=[\n",
    "        {\"role\": \"system\", \n",
    "         \"content\": \"\"\"Here you have the checklist for generating sentences with mountain names:\n",
    "                    Geographical Diversity: Include mountains from different continents and regions.\n",
    "                    Contextual Variety: Use sentences from various contexts like travel, history, geography, and news.\n",
    "                    Sentence Complexity: Mix simple and complex sentences, varying in length and structure.\n",
    "                    Formal and Informal References: Incorporate both official and colloquial names of mountains.\n",
    "                    Metaphorical Use: Include sentences where mountain names are used metaphorically.\n",
    "                    Entity Co-occurrence: Use sentences where mountains are mentioned alongside other entities like rivers, cities, etc.\n",
    "                    Temporal References: Have historical and current references to mountains.\n",
    "                    Multiple Entities: Occasionally use sentences with multiple mountain names.\n",
    "                    Negative Samples: Include sentences with mountain-related words but no mountain name.\n",
    "                    Multilingual and Transliteration Aspects: If applicable, include names in different languages and transliterations.\n",
    "                    Cultural and Mythological References: Add references from cultural or mythological texts.\n",
    "                    Varied Data Sources: Gather sentences from diverse sources to ensure different writing styles.\n",
    "                    JSON format: {'sentences':[s1,s2,...]} without newline characters\"\"\"},\n",
    "        {\"role\": \"assistant\", \n",
    "         \"content\": \"generate 50 sentences. Return them in json without any other notes or comments on the task\"}\n",
    "    ]\n",
    "    response = openai.ChatCompletion.create(model=model, response_format={ \"type\": \"json_object\" }, messages=messages)\n",
    "    #print(response)\n",
    "    #print(f\"Tokens used: {response['usage']}\")\n",
    "    sentences = response['choices'][0]['message']['content']\n",
    "    sentences_dict = json.loads(sentences)\n",
    "    \n",
    "    return sentences_dict"
   ]
  },
  {
   "cell_type": "code",
   "execution_count": null,
   "id": "7ce4286da55946b0",
   "metadata": {
    "ExecuteTime": {
     "end_time": "2023-11-26T17:44:28.993144200Z",
     "start_time": "2023-11-26T17:44:18.002237700Z"
    },
    "collapsed": false
   },
   "outputs": [],
   "source": [
    "#sentences_dict = generate_sentences()"
   ]
  },
  {
   "cell_type": "code",
   "execution_count": 16,
   "id": "b37bcd41bf22b2e6",
   "metadata": {
    "collapsed": false
   },
   "outputs": [
    {
     "name": "stdout",
     "output_type": "stream",
     "text": [
      "{'sentences': [\"Mount Everest, the highest peak on Earth, straddles the border between Nepal and China's autonomous region of Tibet.\", \"The hikers embarked on an arduous journey to ascend Mount Kilimanjaro, Africa's tallest mountain, which is also a dormant volcano.\", \"Denali, formerly known as Mount McKinley, is North America's highest mountain peak and is renowned for its stunning beauty and challenging terrain.\", 'The Inca citadel of Machu Picchu is nestled high in the Andes mountains, revealing the architectural ingenuity of ancient civilizations.', 'In Greek mythology, Mount Olympus was regarded as the abode of the gods, a place where Zeus and his pantheon resided.', \"Mount Fuji's symmetrical cone, a celebrated symbol of Japan, is a frequent subject in art and literature due to its cultural significance.\", 'During the climbing season, base camp at Everest becomes a bustling community of mountaineers, guides, and sherpas.', 'The Rocky Mountains stretch across North America, influencing the climate and geography of the surrounding regions.', \"While Mount Vesuvius is known mainly for its catastrophic eruption in 79 AD that buried the cities of Pompeii and Herculaneum, today it's a major tourist attraction.\", 'The lecture on plate tectonics explained how the Himalayas were formed by the collision of the Indian and Eurasian tectonic plates.']}\n"
     ]
    }
   ],
   "source": [
    "#print(sentences_dict)"
   ]
  },
  {
   "cell_type": "code",
   "execution_count": null,
   "id": "1f95bde46f6879c5",
   "metadata": {
    "ExecuteTime": {
     "end_time": "2023-11-26T21:28:46.122059700Z",
     "start_time": "2023-11-26T21:16:36.844114200Z"
    },
    "collapsed": false
   },
   "outputs": [],
   "source": [
    "for _ in range(20):\n",
    "    print(f'{_}: generating 50.')\n",
    "    sentences_dict = generate_sentences()\n",
    "    #print(sentences_dict)\n",
    "    with open('sentences.txt', 'a', encoding=\"utf-8\") as file:\n",
    "        for sentence in sentences_dict['sentences']:\n",
    "            file.write(sentence + '\\n')\n",
    "    print(f'{_}: done.')"
   ]
  },
  {
   "cell_type": "code",
   "execution_count": null,
   "id": "15565cbac87c9cf8",
   "metadata": {
    "collapsed": false
   },
   "outputs": [],
   "source": []
  },
  {
   "cell_type": "code",
   "execution_count": 5,
   "id": "f2d7b84238b0c466",
   "metadata": {
    "ExecuteTime": {
     "end_time": "2023-11-26T22:59:18.079677100Z",
     "start_time": "2023-11-26T22:59:18.064053500Z"
    },
    "collapsed": false
   },
   "outputs": [],
   "source": [
    "def tag_sentence(sentence):\n",
    "    messages=[\n",
    "        {\"role\": \"system\",\n",
    "         \"content\": \"\"\"IOB (Inside, Outside, Beginning) tagging scheme:\n",
    "                    MNT: For names of mountains.\n",
    "                    MNTREL: General mountain-related term (e.g., summit, peak, ridge).\n",
    "                    LOC: For broader geographical locations.\n",
    "                    COUNTRY/CITY: For countries and cities related to mountains.\n",
    "                    GEO: For other geographical features like rivers, forests.\n",
    "                    PARK: For national parks or reserves including mountains.\n",
    "                    HIST: For historical events related to mountains.\n",
    "                    CULT: For cultural or religious sites associated with mountains.\n",
    "                    PER: For names of people associated with mountains.\n",
    "                    ORG: For organizations related to mountains.\n",
    "                    DATE: For dates or times relevant to mountain-related events.\n",
    "                    O: For tokens that don't belong to any specific category.\n",
    "                    In the IOB scheme, \"B-\" indicates the beginning of an entity, and \"I-\" indicates that the token is inside an entity but not the first token.\n",
    "                    (do not add any other tags!)\n",
    "                    Required json format:\n",
    "                    {\"sentence_id\": 0,\n",
    "                    \"tokens\": [\n",
    "                    {\"token\": \"Mount\", \"pos\": \"NNP\", \"tag\": \"B-MNT\"},\n",
    "                    {\"token\": \"Everest\", \"pos\": \"NNP\", \"tag\": \"I-MNT\"},...]}\"\"\"},\n",
    "        {\"role\": \"assistant\",\n",
    "         \"content\": f'separate the next sentence into tokens and tag them with given tags(if applicable), add for each token its part of speech(pos) in abbreviation. Return content in json format. Do not add to the response any other your comments or notes! Sentence: {sentence}'}\n",
    "    ]\n",
    "    response = openai.ChatCompletion.create(model=model, response_format={ \"type\": \"json_object\" }, messages=messages)\n",
    "    tagged = (response['choices'][0]['message']['content'])\n",
    "    return tagged"
   ]
  },
  {
   "cell_type": "code",
   "execution_count": null,
   "id": "4058b119a8a36f24",
   "metadata": {
    "ExecuteTime": {
     "end_time": "2023-11-26T23:07:19.991852900Z",
     "start_time": "2023-11-26T22:59:20.485182500Z"
    },
    "collapsed": false
   },
   "outputs": [],
   "source": [
    "json_list = []\n",
    "with open('sentences.txt', 'r') as file:\n",
    "    for sentence_number, sentence in enumerate(file, start=1):\n",
    "        if sentence_number % 20 == 0 :\n",
    "            print('---Short break---')\n",
    "            time.sleep(60)\n",
    "        print(f'{sentence_number}: loading...\\t')\n",
    "        tagged =  tag_sentence(sentence.strip())\n",
    "        json_tagged = json.loads(tagged)\n",
    "        json_tagged['sentence_id'] = sentence_number\n",
    "        json_list.append(json_tagged)\n",
    "        print(f'{sentence_number}: done.\\t')"
   ]
  },
  {
   "cell_type": "code",
   "execution_count": null,
   "id": "22b5aa16f68000e1",
   "metadata": {
    "ExecuteTime": {
     "end_time": "2023-11-27T02:07:02.381793400Z",
     "start_time": "2023-11-27T00:11:50.228668900Z"
    },
    "collapsed": false
   },
   "outputs": [],
   "source": [
    "with open('sentences.txt', 'r', encoding='utf-8') as file:\n",
    "    for sentence_number, sentence in enumerate(file, start=1):\n",
    "        if sentence_number < 91:\n",
    "            continue\n",
    "        if sentence_number % 20 == 0 :\n",
    "            print('---Short break---')\n",
    "            time.sleep(60)\n",
    "        print(f'{sentence_number}: loading...\\t')\n",
    "        tagged =  tag_sentence(sentence.strip())\n",
    "        json_tagged = json.loads(tagged)\n",
    "        json_tagged['sentence_id'] = sentence_number\n",
    "        json_list.append(json_tagged)\n",
    "        print(f'{sentence_number}: done.\\t')"
   ]
  },
  {
   "cell_type": "code",
   "execution_count": 22,
   "id": "6169cb58b05a53fa",
   "metadata": {
    "ExecuteTime": {
     "end_time": "2023-11-27T02:07:46.605827200Z",
     "start_time": "2023-11-27T02:07:46.577664700Z"
    },
    "collapsed": false
   },
   "outputs": [
    {
     "name": "stdout",
     "output_type": "stream",
     "text": [
      "490\n"
     ]
    }
   ],
   "source": [
    "print(len(json_list))"
   ]
  },
  {
   "cell_type": "code",
   "execution_count": 23,
   "id": "9b5d815309cf1f7b",
   "metadata": {
    "ExecuteTime": {
     "end_time": "2023-11-27T02:07:52.181686600Z",
     "start_time": "2023-11-27T02:07:52.014758900Z"
    },
    "collapsed": false
   },
   "outputs": [],
   "source": [
    "# Write the list to a file as a JSON array\n",
    "with open('data-tagged.json', 'w') as file:\n",
    "    json.dump(json_list, file)"
   ]
  },
  {
   "cell_type": "code",
   "execution_count": 24,
   "id": "85576865a1dd695a",
   "metadata": {
    "ExecuteTime": {
     "end_time": "2023-11-27T02:07:54.897751700Z",
     "start_time": "2023-11-27T02:07:54.784070300Z"
    },
    "collapsed": false
   },
   "outputs": [],
   "source": [
    "with open('data-tagged.json', 'r') as file:\n",
    "    data = json.load(file)\n",
    "\n",
    "# Flatten the nested structure\n",
    "# 'record_path' is the path to the nested list (in this case, 'tokens')\n",
    "# 'meta' contains additional fields you want to keep (in this case, 'sentence_id')\n",
    "df = pd.json_normalize(data, record_path='tokens', meta=['sentence_id'])\n",
    "df = df[['sentence_id', 'token', 'pos', 'tag']] "
   ]
  },
  {
   "cell_type": "code",
   "execution_count": 25,
   "id": "2d0f09689f285b0c",
   "metadata": {
    "ExecuteTime": {
     "end_time": "2023-11-27T02:07:56.059690500Z",
     "start_time": "2023-11-27T02:07:56.023630600Z"
    },
    "collapsed": false
   },
   "outputs": [
    {
     "data": {
      "text/html": [
       "<div>\n",
       "<style scoped>\n",
       "    .dataframe tbody tr th:only-of-type {\n",
       "        vertical-align: middle;\n",
       "    }\n",
       "\n",
       "    .dataframe tbody tr th {\n",
       "        vertical-align: top;\n",
       "    }\n",
       "\n",
       "    .dataframe thead th {\n",
       "        text-align: right;\n",
       "    }\n",
       "</style>\n",
       "<table border=\"1\" class=\"dataframe\">\n",
       "  <thead>\n",
       "    <tr style=\"text-align: right;\">\n",
       "      <th></th>\n",
       "      <th>sentence_id</th>\n",
       "      <th>token</th>\n",
       "      <th>pos</th>\n",
       "      <th>tag</th>\n",
       "    </tr>\n",
       "  </thead>\n",
       "  <tbody>\n",
       "    <tr>\n",
       "      <th>0</th>\n",
       "      <td>1</td>\n",
       "      <td>Mount</td>\n",
       "      <td>NNP</td>\n",
       "      <td>B-MNT</td>\n",
       "    </tr>\n",
       "    <tr>\n",
       "      <th>1</th>\n",
       "      <td>1</td>\n",
       "      <td>Everest</td>\n",
       "      <td>NNP</td>\n",
       "      <td>I-MNT</td>\n",
       "    </tr>\n",
       "    <tr>\n",
       "      <th>2</th>\n",
       "      <td>1</td>\n",
       "      <td>is</td>\n",
       "      <td>VBZ</td>\n",
       "      <td>O</td>\n",
       "    </tr>\n",
       "    <tr>\n",
       "      <th>3</th>\n",
       "      <td>1</td>\n",
       "      <td>known</td>\n",
       "      <td>VBN</td>\n",
       "      <td>O</td>\n",
       "    </tr>\n",
       "    <tr>\n",
       "      <th>4</th>\n",
       "      <td>1</td>\n",
       "      <td>as</td>\n",
       "      <td>IN</td>\n",
       "      <td>O</td>\n",
       "    </tr>\n",
       "    <tr>\n",
       "      <th>...</th>\n",
       "      <td>...</td>\n",
       "      <td>...</td>\n",
       "      <td>...</td>\n",
       "      <td>...</td>\n",
       "    </tr>\n",
       "    <tr>\n",
       "      <th>8265</th>\n",
       "      <td>490</td>\n",
       "      <td>a</td>\n",
       "      <td>DT</td>\n",
       "      <td>O</td>\n",
       "    </tr>\n",
       "    <tr>\n",
       "      <th>8266</th>\n",
       "      <td>490</td>\n",
       "      <td>mountain</td>\n",
       "      <td>NN</td>\n",
       "      <td>B-MNTREL</td>\n",
       "    </tr>\n",
       "    <tr>\n",
       "      <th>8267</th>\n",
       "      <td>490</td>\n",
       "      <td>range</td>\n",
       "      <td>NN</td>\n",
       "      <td>I-MNTREL</td>\n",
       "    </tr>\n",
       "    <tr>\n",
       "      <th>8268</th>\n",
       "      <td>490</td>\n",
       "      <td>in</td>\n",
       "      <td>IN</td>\n",
       "      <td>O</td>\n",
       "    </tr>\n",
       "    <tr>\n",
       "      <th>8269</th>\n",
       "      <td>490</td>\n",
       "      <td>Scotland</td>\n",
       "      <td>NNP</td>\n",
       "      <td>B-COUNTRY</td>\n",
       "    </tr>\n",
       "  </tbody>\n",
       "</table>\n",
       "<p>8270 rows × 4 columns</p>\n",
       "</div>"
      ],
      "text/plain": [
       "     sentence_id     token  pos        tag\n",
       "0              1     Mount  NNP      B-MNT\n",
       "1              1   Everest  NNP      I-MNT\n",
       "2              1        is  VBZ          O\n",
       "3              1     known  VBN          O\n",
       "4              1        as   IN          O\n",
       "...          ...       ...  ...        ...\n",
       "8265         490         a   DT          O\n",
       "8266         490  mountain   NN   B-MNTREL\n",
       "8267         490     range   NN   I-MNTREL\n",
       "8268         490        in   IN          O\n",
       "8269         490  Scotland  NNP  B-COUNTRY\n",
       "\n",
       "[8270 rows x 4 columns]"
      ]
     },
     "execution_count": 25,
     "metadata": {},
     "output_type": "execute_result"
    }
   ],
   "source": [
    "df"
   ]
  },
  {
   "cell_type": "code",
   "execution_count": 26,
   "id": "9b4069f5a0e2a087",
   "metadata": {
    "ExecuteTime": {
     "end_time": "2023-11-27T02:08:01.631000100Z",
     "start_time": "2023-11-27T02:08:01.610051800Z"
    },
    "collapsed": false
   },
   "outputs": [
    {
     "data": {
      "text/plain": [
       "array(['B-MNT', 'I-MNT', 'O', 'B-MNTREL', 'B-LOC', 'I-LOC', 'B-CITY',\n",
       "       'I-CITY', 'B-COUNTRY', 'I-COUNTRY', 'B-PARK', 'I-PARK', 'I-MNTREL',\n",
       "       'B-CULT', 'I-CULT', 'HIST', 'B-GEO', 'I-GEO', 'B-DATE', 'B-HIST',\n",
       "       'MNTREL', 'I-DATE', 'B-PER', 'I-HIST', 'B-COUNTRY/CITY', 'B-ORG',\n",
       "       'I-ORG', 'LOC', 'I-PER', 'DATE'], dtype=object)"
      ]
     },
     "execution_count": 26,
     "metadata": {},
     "output_type": "execute_result"
    }
   ],
   "source": [
    "df.tag.unique()"
   ]
  },
  {
   "cell_type": "code",
   "execution_count": null,
   "id": "911dd4059b812e82",
   "metadata": {
    "collapsed": false
   },
   "outputs": [],
   "source": []
  }
 ],
 "metadata": {
  "kernelspec": {
   "display_name": "Python 3",
   "language": "python",
   "name": "python3"
  },
  "language_info": {
   "codemirror_mode": {
    "name": "ipython",
    "version": 2
   },
   "file_extension": ".py",
   "mimetype": "text/x-python",
   "name": "python",
   "nbconvert_exporter": "python",
   "pygments_lexer": "ipython2",
   "version": "2.7.6"
  }
 },
 "nbformat": 4,
 "nbformat_minor": 5
}
